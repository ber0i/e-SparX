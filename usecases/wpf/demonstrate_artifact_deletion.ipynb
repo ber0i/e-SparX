{
 "cells": [
  {
   "cell_type": "code",
   "execution_count": 1,
   "metadata": {},
   "outputs": [],
   "source": [
    "import energydatalab as edl"
   ]
  },
  {
   "cell_type": "code",
   "execution_count": 2,
   "metadata": {},
   "outputs": [
    {
     "name": "stdout",
     "output_type": "stream",
     "text": [
      "\u001b[1;91mDELETED\u001b[0m artifact \u001b[94mHistorical Weather Data\u001b[0m.\n",
      "\n"
     ]
    }
   ],
   "source": [
    "edl.delete_artifact(\"Historical Weather Data\")"
   ]
  }
 ],
 "metadata": {
  "kernelspec": {
   "display_name": "edl-usecases",
   "language": "python",
   "name": "python3"
  },
  "language_info": {
   "codemirror_mode": {
    "name": "ipython",
    "version": 3
   },
   "file_extension": ".py",
   "mimetype": "text/x-python",
   "name": "python",
   "nbconvert_exporter": "python",
   "pygments_lexer": "ipython3",
   "version": "3.12.4"
  }
 },
 "nbformat": 4,
 "nbformat_minor": 2
}
