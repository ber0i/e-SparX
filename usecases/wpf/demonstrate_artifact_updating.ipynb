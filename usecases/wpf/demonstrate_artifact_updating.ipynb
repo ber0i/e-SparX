{
 "cells": [
  {
   "cell_type": "code",
   "execution_count": 1,
   "metadata": {},
   "outputs": [],
   "source": [
    "import energydatalab as edl"
   ]
  },
  {
   "cell_type": "code",
   "execution_count": 2,
   "metadata": {},
   "outputs": [
    {
     "name": "stdout",
     "output_type": "stream",
     "text": [
      "Artifact \u001b[94mRetrieve Historical Weather Data\u001b[0m already exists.\n",
      "Pipeline \u001b[95mWind Power Forecasting - MLP and LSTM\u001b[0m found.\n",
      "Artifact \u001b[94mRetrieve Historical Weather Data\u001b[0m is already linked to pipeline \u001b[95mWind Power Forecasting - MLP and LSTM\u001b[0m.\n",
      "Artifact metadata updated successfully.\n"
     ]
    }
   ],
   "source": [
    "# update existing code artifact\n",
    "edl.register_code(\n",
    "    name=\"Retrieve Historical Weather Data\",\n",
    "    description=\"This is a new, much more insightful description of this code artifact!\",\n",
    "    file_type=\"PY\",\n",
    "    source_url=\"https://gitlab.lrz.de/EMT/projects/edl-projects/registry-mvp/-/blob/main/usecases/wpf/alice/src/a_retrieve_weather_data.py\",\n",
    "    download_url=\"https://gitlab.lrz.de/EMT/projects/edl-projects/registry-mvp/-/raw/main/usecases/wpf/alice/src/a_retrieve_weather_data.py?inline=false\",\n",
    "    pipeline_name=\"Wind Power Forecasting - MLP and LSTM\",\n",
    ")"
   ]
  }
 ],
 "metadata": {
  "kernelspec": {
   "display_name": "edl-usecases",
   "language": "python",
   "name": "python3"
  },
  "language_info": {
   "codemirror_mode": {
    "name": "ipython",
    "version": 3
   },
   "file_extension": ".py",
   "mimetype": "text/x-python",
   "name": "python",
   "nbconvert_exporter": "python",
   "pygments_lexer": "ipython3",
   "version": "3.12.4"
  }
 },
 "nbformat": 4,
 "nbformat_minor": 2
}
